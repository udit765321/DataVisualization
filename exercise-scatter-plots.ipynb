{
 "cells": [
  {
   "cell_type": "markdown",
   "id": "01042f5b",
   "metadata": {
    "papermill": {
     "duration": 0.011002,
     "end_time": "2022-06-13T15:58:55.153773",
     "exception": false,
     "start_time": "2022-06-13T15:58:55.142771",
     "status": "completed"
    },
    "tags": []
   },
   "source": [
    "**This notebook is an exercise in the [Data Visualization](https://www.kaggle.com/learn/data-visualization) course.  You can reference the tutorial at [this link](https://www.kaggle.com/alexisbcook/scatter-plots).**\n",
    "\n",
    "---\n"
   ]
  },
  {
   "cell_type": "markdown",
   "id": "e769ea51",
   "metadata": {
    "papermill": {
     "duration": 0.009848,
     "end_time": "2022-06-13T15:58:55.173833",
     "exception": false,
     "start_time": "2022-06-13T15:58:55.163985",
     "status": "completed"
    },
    "tags": []
   },
   "source": [
    "In this exercise, you will use your new knowledge to propose a solution to a real-world scenario.  To succeed, you will need to import data into Python, answer questions using the data, and generate **scatter plots** to understand patterns in the data.\n",
    "\n",
    "## Scenario\n",
    "\n",
    "You work for a major candy producer, and your goal is to write a report that your company can use to guide the design of its next product.  Soon after starting your research, you stumble across this [very interesting dataset](https://fivethirtyeight.com/features/the-ultimate-halloween-candy-power-ranking/) containing results from a fun survey to crowdsource favorite candies.\n",
    "\n",
    "## Setup\n",
    "\n",
    "Run the next cell to import and configure the Python libraries that you need to complete the exercise."
   ]
  },
  {
   "cell_type": "code",
   "execution_count": 1,
   "id": "990f90ed",
   "metadata": {
    "execution": {
     "iopub.execute_input": "2022-06-13T15:58:55.196098Z",
     "iopub.status.busy": "2022-06-13T15:58:55.195455Z",
     "iopub.status.idle": "2022-06-13T15:58:56.503927Z",
     "shell.execute_reply": "2022-06-13T15:58:56.502987Z"
    },
    "papermill": {
     "duration": 1.322899,
     "end_time": "2022-06-13T15:58:56.506593",
     "exception": false,
     "start_time": "2022-06-13T15:58:55.183694",
     "status": "completed"
    },
    "tags": []
   },
   "outputs": [
    {
     "name": "stdout",
     "output_type": "stream",
     "text": [
      "Setup Complete\n"
     ]
    }
   ],
   "source": [
    "import pandas as pd\n",
    "pd.plotting.register_matplotlib_converters()\n",
    "import matplotlib.pyplot as plt\n",
    "%matplotlib inline\n",
    "import seaborn as sns\n",
    "print(\"Setup Complete\")"
   ]
  },
  {
   "cell_type": "markdown",
   "id": "b12b1f10",
   "metadata": {
    "papermill": {
     "duration": 0.010191,
     "end_time": "2022-06-13T15:58:56.526782",
     "exception": false,
     "start_time": "2022-06-13T15:58:56.516591",
     "status": "completed"
    },
    "tags": []
   },
   "source": [
    "The questions below will give you feedback on your work. Run the following cell to set up our feedback system."
   ]
  },
  {
   "cell_type": "code",
   "execution_count": 2,
   "id": "cb0db034",
   "metadata": {
    "execution": {
     "iopub.execute_input": "2022-06-13T15:58:56.548320Z",
     "iopub.status.busy": "2022-06-13T15:58:56.547941Z",
     "iopub.status.idle": "2022-06-13T15:58:56.631338Z",
     "shell.execute_reply": "2022-06-13T15:58:56.630237Z"
    },
    "papermill": {
     "duration": 0.096986,
     "end_time": "2022-06-13T15:58:56.633622",
     "exception": false,
     "start_time": "2022-06-13T15:58:56.536636",
     "status": "completed"
    },
    "tags": []
   },
   "outputs": [
    {
     "name": "stdout",
     "output_type": "stream",
     "text": [
      "Setup Complete\n"
     ]
    }
   ],
   "source": [
    "# Set up code checking\n",
    "import os\n",
    "if not os.path.exists(\"../input/candy.csv\"):\n",
    "    os.symlink(\"../input/data-for-datavis/candy.csv\", \"../input/candy.csv\") \n",
    "from learntools.core import binder\n",
    "binder.bind(globals())\n",
    "from learntools.data_viz_to_coder.ex4 import *\n",
    "print(\"Setup Complete\")"
   ]
  },
  {
   "cell_type": "markdown",
   "id": "a1a3323f",
   "metadata": {
    "papermill": {
     "duration": 0.009861,
     "end_time": "2022-06-13T15:58:56.653545",
     "exception": false,
     "start_time": "2022-06-13T15:58:56.643684",
     "status": "completed"
    },
    "tags": []
   },
   "source": [
    "## Step 1: Load the Data\n",
    "\n",
    "Read the candy data file into `candy_data`.  Use the `\"id\"` column to label the rows."
   ]
  },
  {
   "cell_type": "code",
   "execution_count": 3,
   "id": "6d3b87f0",
   "metadata": {
    "execution": {
     "iopub.execute_input": "2022-06-13T15:58:56.674859Z",
     "iopub.status.busy": "2022-06-13T15:58:56.674189Z",
     "iopub.status.idle": "2022-06-13T15:58:56.688378Z",
     "shell.execute_reply": "2022-06-13T15:58:56.687652Z"
    },
    "papermill": {
     "duration": 0.0273,
     "end_time": "2022-06-13T15:58:56.690530",
     "exception": false,
     "start_time": "2022-06-13T15:58:56.663230",
     "status": "completed"
    },
    "tags": []
   },
   "outputs": [
    {
     "data": {
      "application/javascript": [
       "parent.postMessage({\"jupyterEvent\": \"custom.exercise_interaction\", \"data\": {\"outcomeType\": 1, \"valueTowardsCompletion\": 0.3333333333333333, \"interactionType\": 1, \"questionType\": 1, \"questionId\": \"1_LoadData\", \"learnToolsVersion\": \"0.3.4\", \"failureMessage\": \"\", \"exceptionClass\": \"\", \"trace\": \"\"}}, \"*\")"
      ],
      "text/plain": [
       "<IPython.core.display.Javascript object>"
      ]
     },
     "metadata": {},
     "output_type": "display_data"
    },
    {
     "data": {
      "text/markdown": [
       "<span style=\"color:#33cc33\">Correct</span>"
      ],
      "text/plain": [
       "Correct"
      ]
     },
     "metadata": {},
     "output_type": "display_data"
    }
   ],
   "source": [
    "# Path of the file to read\n",
    "candy_filepath = \"../input/candy.csv\"\n",
    "\n",
    "# Fill in the line below to read the file into a variable candy_data\n",
    "candy_data = pd.read_csv(candy_filepath,index_col=\"id\")\n",
    "\n",
    "# Run the line below with no changes to check that you've loaded the data correctly\n",
    "step_1.check()\n"
   ]
  },
  {
   "cell_type": "code",
   "execution_count": 4,
   "id": "12db0cd1",
   "metadata": {
    "execution": {
     "iopub.execute_input": "2022-06-13T15:58:56.712902Z",
     "iopub.status.busy": "2022-06-13T15:58:56.712264Z",
     "iopub.status.idle": "2022-06-13T15:58:56.715770Z",
     "shell.execute_reply": "2022-06-13T15:58:56.715123Z"
    },
    "papermill": {
     "duration": 0.016571,
     "end_time": "2022-06-13T15:58:56.717586",
     "exception": false,
     "start_time": "2022-06-13T15:58:56.701015",
     "status": "completed"
    },
    "tags": []
   },
   "outputs": [],
   "source": [
    "# Lines below will give you a hint or solution code\n",
    "#step_1.hint()\n",
    "#step_1.solution()"
   ]
  },
  {
   "cell_type": "markdown",
   "id": "563be0af",
   "metadata": {
    "papermill": {
     "duration": 0.009565,
     "end_time": "2022-06-13T15:58:56.737302",
     "exception": false,
     "start_time": "2022-06-13T15:58:56.727737",
     "status": "completed"
    },
    "tags": []
   },
   "source": [
    "## Step 2: Review the data\n",
    "\n",
    "Use a Python command to print the first five rows of the data."
   ]
  },
  {
   "cell_type": "code",
   "execution_count": 5,
   "id": "7604378e",
   "metadata": {
    "execution": {
     "iopub.execute_input": "2022-06-13T15:58:56.759601Z",
     "iopub.status.busy": "2022-06-13T15:58:56.758961Z",
     "iopub.status.idle": "2022-06-13T15:58:56.780634Z",
     "shell.execute_reply": "2022-06-13T15:58:56.779622Z"
    },
    "papermill": {
     "duration": 0.035377,
     "end_time": "2022-06-13T15:58:56.782896",
     "exception": false,
     "start_time": "2022-06-13T15:58:56.747519",
     "status": "completed"
    },
    "tags": []
   },
   "outputs": [
    {
     "data": {
      "text/html": [
       "<div>\n",
       "<style scoped>\n",
       "    .dataframe tbody tr th:only-of-type {\n",
       "        vertical-align: middle;\n",
       "    }\n",
       "\n",
       "    .dataframe tbody tr th {\n",
       "        vertical-align: top;\n",
       "    }\n",
       "\n",
       "    .dataframe thead th {\n",
       "        text-align: right;\n",
       "    }\n",
       "</style>\n",
       "<table border=\"1\" class=\"dataframe\">\n",
       "  <thead>\n",
       "    <tr style=\"text-align: right;\">\n",
       "      <th></th>\n",
       "      <th>competitorname</th>\n",
       "      <th>chocolate</th>\n",
       "      <th>fruity</th>\n",
       "      <th>caramel</th>\n",
       "      <th>peanutyalmondy</th>\n",
       "      <th>nougat</th>\n",
       "      <th>crispedricewafer</th>\n",
       "      <th>hard</th>\n",
       "      <th>bar</th>\n",
       "      <th>pluribus</th>\n",
       "      <th>sugarpercent</th>\n",
       "      <th>pricepercent</th>\n",
       "      <th>winpercent</th>\n",
       "    </tr>\n",
       "    <tr>\n",
       "      <th>id</th>\n",
       "      <th></th>\n",
       "      <th></th>\n",
       "      <th></th>\n",
       "      <th></th>\n",
       "      <th></th>\n",
       "      <th></th>\n",
       "      <th></th>\n",
       "      <th></th>\n",
       "      <th></th>\n",
       "      <th></th>\n",
       "      <th></th>\n",
       "      <th></th>\n",
       "      <th></th>\n",
       "    </tr>\n",
       "  </thead>\n",
       "  <tbody>\n",
       "    <tr>\n",
       "      <th>0</th>\n",
       "      <td>100 Grand</td>\n",
       "      <td>Yes</td>\n",
       "      <td>No</td>\n",
       "      <td>Yes</td>\n",
       "      <td>No</td>\n",
       "      <td>No</td>\n",
       "      <td>Yes</td>\n",
       "      <td>No</td>\n",
       "      <td>Yes</td>\n",
       "      <td>No</td>\n",
       "      <td>0.732</td>\n",
       "      <td>0.860</td>\n",
       "      <td>66.971725</td>\n",
       "    </tr>\n",
       "    <tr>\n",
       "      <th>1</th>\n",
       "      <td>3 Musketeers</td>\n",
       "      <td>Yes</td>\n",
       "      <td>No</td>\n",
       "      <td>No</td>\n",
       "      <td>No</td>\n",
       "      <td>Yes</td>\n",
       "      <td>No</td>\n",
       "      <td>No</td>\n",
       "      <td>Yes</td>\n",
       "      <td>No</td>\n",
       "      <td>0.604</td>\n",
       "      <td>0.511</td>\n",
       "      <td>67.602936</td>\n",
       "    </tr>\n",
       "    <tr>\n",
       "      <th>2</th>\n",
       "      <td>Air Heads</td>\n",
       "      <td>No</td>\n",
       "      <td>Yes</td>\n",
       "      <td>No</td>\n",
       "      <td>No</td>\n",
       "      <td>No</td>\n",
       "      <td>No</td>\n",
       "      <td>No</td>\n",
       "      <td>No</td>\n",
       "      <td>No</td>\n",
       "      <td>0.906</td>\n",
       "      <td>0.511</td>\n",
       "      <td>52.341465</td>\n",
       "    </tr>\n",
       "    <tr>\n",
       "      <th>3</th>\n",
       "      <td>Almond Joy</td>\n",
       "      <td>Yes</td>\n",
       "      <td>No</td>\n",
       "      <td>No</td>\n",
       "      <td>Yes</td>\n",
       "      <td>No</td>\n",
       "      <td>No</td>\n",
       "      <td>No</td>\n",
       "      <td>Yes</td>\n",
       "      <td>No</td>\n",
       "      <td>0.465</td>\n",
       "      <td>0.767</td>\n",
       "      <td>50.347546</td>\n",
       "    </tr>\n",
       "    <tr>\n",
       "      <th>4</th>\n",
       "      <td>Baby Ruth</td>\n",
       "      <td>Yes</td>\n",
       "      <td>No</td>\n",
       "      <td>Yes</td>\n",
       "      <td>Yes</td>\n",
       "      <td>Yes</td>\n",
       "      <td>No</td>\n",
       "      <td>No</td>\n",
       "      <td>Yes</td>\n",
       "      <td>No</td>\n",
       "      <td>0.604</td>\n",
       "      <td>0.767</td>\n",
       "      <td>56.914547</td>\n",
       "    </tr>\n",
       "  </tbody>\n",
       "</table>\n",
       "</div>"
      ],
      "text/plain": [
       "   competitorname chocolate fruity caramel peanutyalmondy nougat  \\\n",
       "id                                                                 \n",
       "0       100 Grand       Yes     No     Yes             No     No   \n",
       "1    3 Musketeers       Yes     No      No             No    Yes   \n",
       "2       Air Heads        No    Yes      No             No     No   \n",
       "3      Almond Joy       Yes     No      No            Yes     No   \n",
       "4       Baby Ruth       Yes     No     Yes            Yes    Yes   \n",
       "\n",
       "   crispedricewafer hard  bar pluribus  sugarpercent  pricepercent  winpercent  \n",
       "id                                                                              \n",
       "0               Yes   No  Yes       No         0.732         0.860   66.971725  \n",
       "1                No   No  Yes       No         0.604         0.511   67.602936  \n",
       "2                No   No   No       No         0.906         0.511   52.341465  \n",
       "3                No   No  Yes       No         0.465         0.767   50.347546  \n",
       "4                No   No  Yes       No         0.604         0.767   56.914547  "
      ]
     },
     "execution_count": 5,
     "metadata": {},
     "output_type": "execute_result"
    }
   ],
   "source": [
    "# Print the first five rows of the data\n",
    "____ # Your code here\n",
    "candy_data.head()"
   ]
  },
  {
   "cell_type": "markdown",
   "id": "99848db7",
   "metadata": {
    "papermill": {
     "duration": 0.009952,
     "end_time": "2022-06-13T15:58:56.803221",
     "exception": false,
     "start_time": "2022-06-13T15:58:56.793269",
     "status": "completed"
    },
    "tags": []
   },
   "source": [
    "The dataset contains 83 rows, where each corresponds to a different candy bar.  There are 13 columns:\n",
    "- `'competitorname'` contains the name of the candy bar. \n",
    "- the next **9** columns (from `'chocolate'` to `'pluribus'`) describe the candy.  For instance, rows with chocolate candies have `\"Yes\"` in the `'chocolate'` column (and candies without chocolate have `\"No\"` in the same column).\n",
    "- `'sugarpercent'` provides some indication of the amount of sugar, where higher values signify higher sugar content.\n",
    "- `'pricepercent'` shows the price per unit, relative to the other candies in the dataset.\n",
    "- `'winpercent'` is calculated from the survey results; higher values indicate that the candy was more popular with survey respondents.\n",
    "\n",
    "Use the first five rows of the data to answer the questions below."
   ]
  },
  {
   "cell_type": "code",
   "execution_count": 6,
   "id": "8cab8e60",
   "metadata": {
    "execution": {
     "iopub.execute_input": "2022-06-13T15:58:56.825302Z",
     "iopub.status.busy": "2022-06-13T15:58:56.824917Z",
     "iopub.status.idle": "2022-06-13T15:58:56.833063Z",
     "shell.execute_reply": "2022-06-13T15:58:56.832166Z"
    },
    "papermill": {
     "duration": 0.021947,
     "end_time": "2022-06-13T15:58:56.835474",
     "exception": false,
     "start_time": "2022-06-13T15:58:56.813527",
     "status": "completed"
    },
    "tags": []
   },
   "outputs": [
    {
     "data": {
      "application/javascript": [
       "parent.postMessage({\"jupyterEvent\": \"custom.exercise_interaction\", \"data\": {\"outcomeType\": 1, \"valueTowardsCompletion\": 0.3333333333333333, \"interactionType\": 1, \"questionType\": 1, \"questionId\": \"2_ReviewData\", \"learnToolsVersion\": \"0.3.4\", \"failureMessage\": \"\", \"exceptionClass\": \"\", \"trace\": \"\"}}, \"*\")"
      ],
      "text/plain": [
       "<IPython.core.display.Javascript object>"
      ]
     },
     "metadata": {},
     "output_type": "display_data"
    },
    {
     "data": {
      "text/markdown": [
       "<span style=\"color:#33cc33\">Correct</span>"
      ],
      "text/plain": [
       "Correct"
      ]
     },
     "metadata": {},
     "output_type": "display_data"
    }
   ],
   "source": [
    "# Fill in the line below: Which candy was more popular with survey respondents:\n",
    "# '3 Musketeers' or 'Almond Joy'?  (Please enclose your answer in single quotes.)\n",
    "more_popular = '3 Musketeers'\n",
    "\n",
    "# Fill in the line below: Which candy has higher sugar content: 'Air Heads'\n",
    "# or 'Baby Ruth'? (Please enclose your answer in single quotes.)\n",
    "more_sugar = 'Air Heads'\n",
    "\n",
    "# Check your answers\n",
    "step_2.check()"
   ]
  },
  {
   "cell_type": "code",
   "execution_count": 7,
   "id": "92a17cdd",
   "metadata": {
    "execution": {
     "iopub.execute_input": "2022-06-13T15:58:56.860359Z",
     "iopub.status.busy": "2022-06-13T15:58:56.859707Z",
     "iopub.status.idle": "2022-06-13T15:58:56.867070Z",
     "shell.execute_reply": "2022-06-13T15:58:56.866413Z"
    },
    "papermill": {
     "duration": 0.021111,
     "end_time": "2022-06-13T15:58:56.868843",
     "exception": false,
     "start_time": "2022-06-13T15:58:56.847732",
     "status": "completed"
    },
    "tags": []
   },
   "outputs": [
    {
     "data": {
      "application/javascript": [
       "parent.postMessage({\"jupyterEvent\": \"custom.exercise_interaction\", \"data\": {\"interactionType\": 3, \"questionType\": 1, \"questionId\": \"2_ReviewData\", \"learnToolsVersion\": \"0.3.4\", \"valueTowardsCompletion\": 0.0, \"failureMessage\": \"\", \"exceptionClass\": \"\", \"trace\": \"\", \"outcomeType\": 4}}, \"*\")"
      ],
      "text/plain": [
       "<IPython.core.display.Javascript object>"
      ]
     },
     "metadata": {},
     "output_type": "display_data"
    },
    {
     "data": {
      "text/markdown": [
       "<span style=\"color:#33cc99\">Solution:</span> \n",
       "```python\n",
       "# Print the first five rows of the data\n",
       "candy_data.head()\n",
       "# Which candy was more popular with survey respondents:\n",
       "# '3 Musketeers' or 'Almond Joy'?\n",
       "more_popular = '3 Musketeers'\n",
       "# Which candy has higher sugar content: 'Air Heads'\n",
       "# or 'Baby Ruth'?\n",
       "more_sugar = 'Air Heads'\n",
       "\n",
       "```"
      ],
      "text/plain": [
       "Solution: \n",
       "```python\n",
       "# Print the first five rows of the data\n",
       "candy_data.head()\n",
       "# Which candy was more popular with survey respondents:\n",
       "# '3 Musketeers' or 'Almond Joy'?\n",
       "more_popular = '3 Musketeers'\n",
       "# Which candy has higher sugar content: 'Air Heads'\n",
       "# or 'Baby Ruth'?\n",
       "more_sugar = 'Air Heads'\n",
       "\n",
       "```"
      ]
     },
     "metadata": {},
     "output_type": "display_data"
    }
   ],
   "source": [
    "# Lines below will give you a hint or solution code\n",
    "#step_2.hint()\n",
    "step_2.solution()"
   ]
  },
  {
   "cell_type": "markdown",
   "id": "4ecd1873",
   "metadata": {
    "papermill": {
     "duration": 0.010505,
     "end_time": "2022-06-13T15:58:56.892238",
     "exception": false,
     "start_time": "2022-06-13T15:58:56.881733",
     "status": "completed"
    },
    "tags": []
   },
   "source": [
    "## Step 3: The role of sugar\n",
    "\n",
    "Do people tend to prefer candies with higher sugar content?  \n",
    "\n",
    "#### Part A\n",
    "\n",
    "Create a scatter plot that shows the relationship between `'sugarpercent'` (on the horizontal x-axis) and `'winpercent'` (on the vertical y-axis).  _Don't add a regression line just yet -- you'll do that in the next step!_"
   ]
  },
  {
   "cell_type": "code",
   "execution_count": 8,
   "id": "ea11c490",
   "metadata": {
    "execution": {
     "iopub.execute_input": "2022-06-13T15:58:56.915596Z",
     "iopub.status.busy": "2022-06-13T15:58:56.914962Z",
     "iopub.status.idle": "2022-06-13T15:58:57.130665Z",
     "shell.execute_reply": "2022-06-13T15:58:57.129650Z"
    },
    "papermill": {
     "duration": 0.229847,
     "end_time": "2022-06-13T15:58:57.132871",
     "exception": false,
     "start_time": "2022-06-13T15:58:56.903024",
     "status": "completed"
    },
    "tags": []
   },
   "outputs": [
    {
     "data": {
      "application/javascript": [
       "parent.postMessage({\"jupyterEvent\": \"custom.exercise_interaction\", \"data\": {\"outcomeType\": 1, \"valueTowardsCompletion\": 0.3333333333333333, \"interactionType\": 1, \"questionType\": 2, \"questionId\": \"3.1_PlotBlueScatter\", \"learnToolsVersion\": \"0.3.4\", \"failureMessage\": \"\", \"exceptionClass\": \"\", \"trace\": \"\"}}, \"*\")"
      ],
      "text/plain": [
       "<IPython.core.display.Javascript object>"
      ]
     },
     "metadata": {},
     "output_type": "display_data"
    },
    {
     "data": {
      "text/markdown": [
       "<span style=\"color:#33cc33\">Correct</span>"
      ],
      "text/plain": [
       "Correct"
      ]
     },
     "metadata": {},
     "output_type": "display_data"
    },
    {
     "data": {
      "image/png": "[encoded data removed]",
      "text/plain": [
       "<Figure size 576x432 with 1 Axes>"
      ]
     },
     "metadata": {
      "needs_background": "light"
     },
     "output_type": "display_data"
    }
   ],
   "source": [
    "# Scatter plot showing the relationship between 'sugarpercent' and 'winpercent'\n",
    "____ # Your code here\n",
    "plt.figure(figsize=(8,6))\n",
    "sns.scatterplot(x=candy_data[\"sugarpercent\"],y=candy_data[\"winpercent\"])\n",
    "# Check your answer\n",
    "step_3.a.check()"
   ]
  },
  {
   "cell_type": "code",
   "execution_count": 9,
   "id": "c191d600",
   "metadata": {
    "execution": {
     "iopub.execute_input": "2022-06-13T15:58:57.158106Z",
     "iopub.status.busy": "2022-06-13T15:58:57.157687Z",
     "iopub.status.idle": "2022-06-13T15:58:57.161790Z",
     "shell.execute_reply": "2022-06-13T15:58:57.160740Z"
    },
    "papermill": {
     "duration": 0.01911,
     "end_time": "2022-06-13T15:58:57.163883",
     "exception": false,
     "start_time": "2022-06-13T15:58:57.144773",
     "status": "completed"
    },
    "tags": []
   },
   "outputs": [],
   "source": [
    "# Lines below will give you a hint or solution code\n",
    "#step_3.a.hint()\n",
    "#step_3.a.solution_plot()"
   ]
  },
  {
   "cell_type": "markdown",
   "id": "c2755e0f",
   "metadata": {
    "papermill": {
     "duration": 0.01189,
     "end_time": "2022-06-13T15:58:57.187444",
     "exception": false,
     "start_time": "2022-06-13T15:58:57.175554",
     "status": "completed"
    },
    "tags": []
   },
   "source": [
    "#### Part B\n",
    "\n",
    "Does the scatter plot show a **strong** correlation between the two variables?  If so, are candies with more sugar relatively more or less popular with the survey respondents?"
   ]
  },
  {
   "cell_type": "code",
   "execution_count": 10,
   "id": "6fac107e",
   "metadata": {
    "execution": {
     "iopub.execute_input": "2022-06-13T15:58:57.212865Z",
     "iopub.status.busy": "2022-06-13T15:58:57.212136Z",
     "iopub.status.idle": "2022-06-13T15:58:57.216690Z",
     "shell.execute_reply": "2022-06-13T15:58:57.215596Z"
    },
    "papermill": {
     "duration": 0.019284,
     "end_time": "2022-06-13T15:58:57.218703",
     "exception": false,
     "start_time": "2022-06-13T15:58:57.199419",
     "status": "completed"
    },
    "tags": []
   },
   "outputs": [],
   "source": [
    "#step_3.b.hint()"
   ]
  },
  {
   "cell_type": "code",
   "execution_count": 11,
   "id": "67470f03",
   "metadata": {
    "execution": {
     "iopub.execute_input": "2022-06-13T15:58:57.243624Z",
     "iopub.status.busy": "2022-06-13T15:58:57.243225Z",
     "iopub.status.idle": "2022-06-13T15:58:57.250743Z",
     "shell.execute_reply": "2022-06-13T15:58:57.250117Z"
    },
    "papermill": {
     "duration": 0.022271,
     "end_time": "2022-06-13T15:58:57.252599",
     "exception": false,
     "start_time": "2022-06-13T15:58:57.230328",
     "status": "completed"
    },
    "tags": []
   },
   "outputs": [
    {
     "data": {
      "application/javascript": [
       "parent.postMessage({\"jupyterEvent\": \"custom.exercise_interaction\", \"data\": {\"interactionType\": 3, \"questionType\": 4, \"questionId\": \"3.2_ThinkBlueScatter\", \"learnToolsVersion\": \"0.3.4\", \"valueTowardsCompletion\": 0.0, \"failureMessage\": \"\", \"exceptionClass\": \"\", \"trace\": \"\", \"outcomeType\": 4}}, \"*\")"
      ],
      "text/plain": [
       "<IPython.core.display.Javascript object>"
      ]
     },
     "metadata": {},
     "output_type": "display_data"
    },
    {
     "data": {
      "text/markdown": [
       "<span style=\"color:#33cc99\">Solution:</span> The scatter plot does not show a strong correlation between the two variables. Since there is no clear relationship between the two variables, this tells us that sugar content does not play a strong role in candy popularity."
      ],
      "text/plain": [
       "Solution: The scatter plot does not show a strong correlation between the two variables. Since there is no clear relationship between the two variables, this tells us that sugar content does not play a strong role in candy popularity."
      ]
     },
     "metadata": {},
     "output_type": "display_data"
    }
   ],
   "source": [
    "# Check your answer (Run this code cell to receive credit!)\n",
    "step_3.b.solution()"
   ]
  },
  {
   "cell_type": "markdown",
   "id": "36921e4e",
   "metadata": {
    "papermill": {
     "duration": 0.011504,
     "end_time": "2022-06-13T15:58:57.276820",
     "exception": false,
     "start_time": "2022-06-13T15:58:57.265316",
     "status": "completed"
    },
    "tags": []
   },
   "source": [
    "## Step 4: Take a closer look\n",
    "\n",
    "#### Part A\n",
    "\n",
    "Create the same scatter plot you created in **Step 3**, but now with a regression line!"
   ]
  },
  {
   "cell_type": "code",
   "execution_count": 12,
   "id": "2992285f",
   "metadata": {
    "execution": {
     "iopub.execute_input": "2022-06-13T15:58:57.302202Z",
     "iopub.status.busy": "2022-06-13T15:58:57.301588Z",
     "iopub.status.idle": "2022-06-13T15:58:57.558105Z",
     "shell.execute_reply": "2022-06-13T15:58:57.557359Z"
    },
    "papermill": {
     "duration": 0.271633,
     "end_time": "2022-06-13T15:58:57.560236",
     "exception": false,
     "start_time": "2022-06-13T15:58:57.288603",
     "status": "completed"
    },
    "tags": []
   },
   "outputs": [
    {
     "data": {
      "application/javascript": [
       "parent.postMessage({\"jupyterEvent\": \"custom.exercise_interaction\", \"data\": {\"outcomeType\": 1, \"valueTowardsCompletion\": 0.3333333333333333, \"interactionType\": 1, \"questionType\": 2, \"questionId\": \"4.1_PlotBlueReg\", \"learnToolsVersion\": \"0.3.4\", \"failureMessage\": \"\", \"exceptionClass\": \"\", \"trace\": \"\"}}, \"*\")"
      ],
      "text/plain": [
       "<IPython.core.display.Javascript object>"
      ]
     },
     "metadata": {},
     "output_type": "display_data"
    },
    {
     "data": {
      "text/markdown": [
       "<span style=\"color:#33cc33\">Correct</span>"
      ],
      "text/plain": [
       "Correct"
      ]
     },
     "metadata": {},
     "output_type": "display_data"
    },
    {
     "data": {
      "image/png": "[encoded data removed]",
      "text/plain": [
       "<Figure size 432x288 with 1 Axes>"
      ]
     },
     "metadata": {
      "needs_background": "light"
     },
     "output_type": "display_data"
    }
   ],
   "source": [
    "# Scatter plot w/ regression line showing the relationship between 'sugarpercent' and 'winpercent'\n",
    "____ # Your code here\n",
    "sns.regplot(x=candy_data[\"sugarpercent\"],y=candy_data[\"winpercent\"])\n",
    "# Check your answer\n",
    "step_4.a.check()"
   ]
  },
  {
   "cell_type": "code",
   "execution_count": 13,
   "id": "814a745a",
   "metadata": {
    "execution": {
     "iopub.execute_input": "2022-06-13T15:58:57.588247Z",
     "iopub.status.busy": "2022-06-13T15:58:57.587151Z",
     "iopub.status.idle": "2022-06-13T15:58:57.592058Z",
     "shell.execute_reply": "2022-06-13T15:58:57.590984Z"
    },
    "papermill": {
     "duration": 0.021058,
     "end_time": "2022-06-13T15:58:57.594184",
     "exception": false,
     "start_time": "2022-06-13T15:58:57.573126",
     "status": "completed"
    },
    "tags": []
   },
   "outputs": [],
   "source": [
    "# Lines below will give you a hint or solution code\n",
    "#step_4.a.hint()\n",
    "#step_4.a.solution_plot()"
   ]
  },
  {
   "cell_type": "markdown",
   "id": "a9ac3924",
   "metadata": {
    "papermill": {
     "duration": 0.011985,
     "end_time": "2022-06-13T15:58:57.619145",
     "exception": false,
     "start_time": "2022-06-13T15:58:57.607160",
     "status": "completed"
    },
    "tags": []
   },
   "source": [
    "#### Part B\n",
    "\n",
    "According to the plot above, is there a **slight** correlation between `'winpercent'` and `'sugarpercent'`?  What does this tell you about the candy that people tend to prefer?"
   ]
  },
  {
   "cell_type": "code",
   "execution_count": 14,
   "id": "c79c13d5",
   "metadata": {
    "execution": {
     "iopub.execute_input": "2022-06-13T15:58:57.647349Z",
     "iopub.status.busy": "2022-06-13T15:58:57.646945Z",
     "iopub.status.idle": "2022-06-13T15:58:57.650851Z",
     "shell.execute_reply": "2022-06-13T15:58:57.649875Z"
    },
    "papermill": {
     "duration": 0.020596,
     "end_time": "2022-06-13T15:58:57.652803",
     "exception": false,
     "start_time": "2022-06-13T15:58:57.632207",
     "status": "completed"
    },
    "tags": []
   },
   "outputs": [],
   "source": [
    "#step_4.b.hint()"
   ]
  },
  {
   "cell_type": "code",
   "execution_count": 15,
   "id": "be597c98",
   "metadata": {
    "execution": {
     "iopub.execute_input": "2022-06-13T15:58:57.680458Z",
     "iopub.status.busy": "2022-06-13T15:58:57.680020Z",
     "iopub.status.idle": "2022-06-13T15:58:57.687257Z",
     "shell.execute_reply": "2022-06-13T15:58:57.686570Z"
    },
    "papermill": {
     "duration": 0.023868,
     "end_time": "2022-06-13T15:58:57.689765",
     "exception": false,
     "start_time": "2022-06-13T15:58:57.665897",
     "status": "completed"
    },
    "tags": []
   },
   "outputs": [
    {
     "data": {
      "application/javascript": [
       "parent.postMessage({\"jupyterEvent\": \"custom.exercise_interaction\", \"data\": {\"interactionType\": 3, \"questionType\": 4, \"questionId\": \"4.2_ThinkBlueReg\", \"learnToolsVersion\": \"0.3.4\", \"valueTowardsCompletion\": 0.0, \"failureMessage\": \"\", \"exceptionClass\": \"\", \"trace\": \"\", \"outcomeType\": 4}}, \"*\")"
      ],
      "text/plain": [
       "<IPython.core.display.Javascript object>"
      ]
     },
     "metadata": {},
     "output_type": "display_data"
    },
    {
     "data": {
      "text/markdown": [
       "<span style=\"color:#33cc99\">Solution:</span> Since the regression line has a slightly positive slope, this tells us that there is a slightly positive correlation between `'winpercent'` and `'sugarpercent'`. Thus, people have a slight preference for candies containing relatively more sugar."
      ],
      "text/plain": [
       "Solution: Since the regression line has a slightly positive slope, this tells us that there is a slightly positive correlation between `'winpercent'` and `'sugarpercent'`. Thus, people have a slight preference for candies containing relatively more sugar."
      ]
     },
     "metadata": {},
     "output_type": "display_data"
    }
   ],
   "source": [
    "# Check your answer (Run this code cell to receive credit!)\n",
    "step_4.b.solution()"
   ]
  },
  {
   "cell_type": "markdown",
   "id": "8a0ab88c",
   "metadata": {
    "papermill": {
     "duration": 0.012833,
     "end_time": "2022-06-13T15:58:57.715779",
     "exception": false,
     "start_time": "2022-06-13T15:58:57.702946",
     "status": "completed"
    },
    "tags": []
   },
   "source": [
    "## Step 5: Chocolate!\n",
    "\n",
    "In the code cell below, create a scatter plot to show the relationship between `'pricepercent'` (on the horizontal x-axis) and `'winpercent'` (on the vertical y-axis). Use the `'chocolate'` column to color-code the points.  _Don't add any regression lines just yet -- you'll do that in the next step!_"
   ]
  },
  {
   "cell_type": "code",
   "execution_count": 16,
   "id": "b6ac1d86",
   "metadata": {
    "execution": {
     "iopub.execute_input": "2022-06-13T15:58:57.743076Z",
     "iopub.status.busy": "2022-06-13T15:58:57.742399Z",
     "iopub.status.idle": "2022-06-13T15:58:57.960911Z",
     "shell.execute_reply": "2022-06-13T15:58:57.959925Z"
    },
    "papermill": {
     "duration": 0.234613,
     "end_time": "2022-06-13T15:58:57.963063",
     "exception": false,
     "start_time": "2022-06-13T15:58:57.728450",
     "status": "completed"
    },
    "tags": []
   },
   "outputs": [
    {
     "data": {
      "application/javascript": [
       "parent.postMessage({\"jupyterEvent\": \"custom.exercise_interaction\", \"data\": {\"outcomeType\": 1, \"valueTowardsCompletion\": 0.3333333333333333, \"interactionType\": 1, \"questionType\": 2, \"questionId\": \"5_ColorScatter\", \"learnToolsVersion\": \"0.3.4\", \"failureMessage\": \"\", \"exceptionClass\": \"\", \"trace\": \"\"}}, \"*\")"
      ],
      "text/plain": [
       "<IPython.core.display.Javascript object>"
      ]
     },
     "metadata": {},
     "output_type": "display_data"
    },
    {
     "data": {
      "text/markdown": [
       "<span style=\"color:#33cc33\">Correct</span>"
      ],
      "text/plain": [
       "Correct"
      ]
     },
     "metadata": {},
     "output_type": "display_data"
    },
    {
     "data": {
      "image/png": "[encoded data removed]",
      "text/plain": [
       "<Figure size 576x432 with 1 Axes>"
      ]
     },
     "metadata": {
      "needs_background": "light"
     },
     "output_type": "display_data"
    }
   ],
   "source": [
    "# Scatter plot showing the relationship between 'pricepercent', 'winpercent', and 'chocolate'\n",
    "____ # Your code here\n",
    "plt.figure(figsize=(8,6))\n",
    "sns.scatterplot(x=candy_data[\"pricepercent\"],y=candy_data[\"winpercent\"],hue=candy_data[\"chocolate\"])\n",
    "# Check your answer\n",
    "step_5.check()"
   ]
  },
  {
   "cell_type": "code",
   "execution_count": 17,
   "id": "bdba1114",
   "metadata": {
    "execution": {
     "iopub.execute_input": "2022-06-13T15:58:57.991627Z",
     "iopub.status.busy": "2022-06-13T15:58:57.991244Z",
     "iopub.status.idle": "2022-06-13T15:58:57.994848Z",
     "shell.execute_reply": "2022-06-13T15:58:57.994159Z"
    },
    "papermill": {
     "duration": 0.019892,
     "end_time": "2022-06-13T15:58:57.996701",
     "exception": false,
     "start_time": "2022-06-13T15:58:57.976809",
     "status": "completed"
    },
    "tags": []
   },
   "outputs": [],
   "source": [
    "# Lines below will give you a hint or solution code\n",
    "#step_5.hint()\n",
    "#step_5.solution_plot()"
   ]
  },
  {
   "cell_type": "markdown",
   "id": "6c170e13",
   "metadata": {
    "papermill": {
     "duration": 0.013499,
     "end_time": "2022-06-13T15:58:58.023595",
     "exception": false,
     "start_time": "2022-06-13T15:58:58.010096",
     "status": "completed"
    },
    "tags": []
   },
   "source": [
    "Can you see any interesting patterns in the scatter plot?  We'll investigate this plot further  by adding regression lines in the next step!\n",
    "\n",
    "## Step 6: Investigate chocolate\n",
    "\n",
    "#### Part A\n",
    "\n",
    "Create the same scatter plot you created in **Step 5**, but now with two regression lines, corresponding to (1) chocolate candies and (2) candies without chocolate."
   ]
  },
  {
   "cell_type": "code",
   "execution_count": 18,
   "id": "17e5f8ac",
   "metadata": {
    "execution": {
     "iopub.execute_input": "2022-06-13T15:58:58.053330Z",
     "iopub.status.busy": "2022-06-13T15:58:58.052939Z",
     "iopub.status.idle": "2022-06-13T15:58:58.594881Z",
     "shell.execute_reply": "2022-06-13T15:58:58.593866Z"
    },
    "papermill": {
     "duration": 0.559555,
     "end_time": "2022-06-13T15:58:58.597140",
     "exception": false,
     "start_time": "2022-06-13T15:58:58.037585",
     "status": "completed"
    },
    "tags": []
   },
   "outputs": [
    {
     "data": {
      "application/javascript": [
       "parent.postMessage({\"jupyterEvent\": \"custom.exercise_interaction\", \"data\": {\"outcomeType\": 1, \"valueTowardsCompletion\": 0.3333333333333333, \"interactionType\": 1, \"questionType\": 2, \"questionId\": \"6.1_PlotColorReg\", \"learnToolsVersion\": \"0.3.4\", \"failureMessage\": \"\", \"exceptionClass\": \"\", \"trace\": \"\"}}, \"*\")"
      ],
      "text/plain": [
       "<IPython.core.display.Javascript object>"
      ]
     },
     "metadata": {},
     "output_type": "display_data"
    },
    {
     "data": {
      "text/markdown": [
       "<span style=\"color:#33cc33\">Correct</span>"
      ],
      "text/plain": [
       "Correct"
      ]
     },
     "metadata": {},
     "output_type": "display_data"
    },
    {
     "data": {
      "image/png": "[encoded data removed]",
      "text/plain": [
       "<Figure size 416.375x360 with 1 Axes>"
      ]
     },
     "metadata": {
      "needs_background": "light"
     },
     "output_type": "display_data"
    }
   ],
   "source": [
    "# Color-coded scatter plot w/ regression lines\n",
    "____ # Your code here\n",
    "sns.lmplot(x=\"pricepercent\", y=\"winpercent\", hue=\"chocolate\", data=candy_data)\n",
    "# Check your answer\n",
    "step_6.a.check()"
   ]
  },
  {
   "cell_type": "code",
   "execution_count": 19,
   "id": "d688fd75",
   "metadata": {
    "execution": {
     "iopub.execute_input": "2022-06-13T15:58:58.628054Z",
     "iopub.status.busy": "2022-06-13T15:58:58.627655Z",
     "iopub.status.idle": "2022-06-13T15:58:58.631401Z",
     "shell.execute_reply": "2022-06-13T15:58:58.630782Z"
    },
    "papermill": {
     "duration": 0.021336,
     "end_time": "2022-06-13T15:58:58.633225",
     "exception": false,
     "start_time": "2022-06-13T15:58:58.611889",
     "status": "completed"
    },
    "tags": []
   },
   "outputs": [],
   "source": [
    "# Lines below will give you a hint or solution code\n",
    "#step_6.a.hint()\n",
    "#step_6.a.solution_plot()"
   ]
  },
  {
   "cell_type": "markdown",
   "id": "c3843548",
   "metadata": {
    "papermill": {
     "duration": 0.01389,
     "end_time": "2022-06-13T15:58:58.661376",
     "exception": false,
     "start_time": "2022-06-13T15:58:58.647486",
     "status": "completed"
    },
    "tags": []
   },
   "source": [
    "#### Part B\n",
    "\n",
    "Using the regression lines, what conclusions can you draw about the effects of chocolate and price on candy popularity?"
   ]
  },
  {
   "cell_type": "code",
   "execution_count": 20,
   "id": "29f6e030",
   "metadata": {
    "execution": {
     "iopub.execute_input": "2022-06-13T15:58:58.692326Z",
     "iopub.status.busy": "2022-06-13T15:58:58.691716Z",
     "iopub.status.idle": "2022-06-13T15:58:58.694980Z",
     "shell.execute_reply": "2022-06-13T15:58:58.694397Z"
    },
    "papermill": {
     "duration": 0.020573,
     "end_time": "2022-06-13T15:58:58.696819",
     "exception": false,
     "start_time": "2022-06-13T15:58:58.676246",
     "status": "completed"
    },
    "tags": []
   },
   "outputs": [],
   "source": [
    "#step_6.b.hint()"
   ]
  },
  {
   "cell_type": "code",
   "execution_count": 21,
   "id": "1feaaacb",
   "metadata": {
    "execution": {
     "iopub.execute_input": "2022-06-13T15:58:58.727821Z",
     "iopub.status.busy": "2022-06-13T15:58:58.727169Z",
     "iopub.status.idle": "2022-06-13T15:58:58.733769Z",
     "shell.execute_reply": "2022-06-13T15:58:58.733103Z"
    },
    "papermill": {
     "duration": 0.024223,
     "end_time": "2022-06-13T15:58:58.735838",
     "exception": false,
     "start_time": "2022-06-13T15:58:58.711615",
     "status": "completed"
    },
    "tags": []
   },
   "outputs": [
    {
     "data": {
      "application/javascript": [
       "parent.postMessage({\"jupyterEvent\": \"custom.exercise_interaction\", \"data\": {\"interactionType\": 3, \"questionType\": 4, \"questionId\": \"6.2_ThinkColorReg\", \"learnToolsVersion\": \"0.3.4\", \"valueTowardsCompletion\": 0.0, \"failureMessage\": \"\", \"exceptionClass\": \"\", \"trace\": \"\", \"outcomeType\": 4}}, \"*\")"
      ],
      "text/plain": [
       "<IPython.core.display.Javascript object>"
      ]
     },
     "metadata": {},
     "output_type": "display_data"
    },
    {
     "data": {
      "text/markdown": [
       "<span style=\"color:#33cc99\">Solution:</span> We'll begin with the regression line for chocolate candies. Since this line has a slightly positive slope, we can say that more expensive chocolate candies tend to be more popular (than relatively cheaper chocolate candies).  Likewise, since the regression line for candies without chocolate has a negative slope, we can say that if candies don't contain chocolate, they tend to be more popular when they are cheaper.  One important note, however, is that the dataset is quite small -- so we shouldn't invest too much trust in these patterns!  To inspire more confidence in the results, we should add more candies to the dataset."
      ],
      "text/plain": [
       "Solution: We'll begin with the regression line for chocolate candies. Since this line has a slightly positive slope, we can say that more expensive chocolate candies tend to be more popular (than relatively cheaper chocolate candies).  Likewise, since the regression line for candies without chocolate has a negative slope, we can say that if candies don't contain chocolate, they tend to be more popular when they are cheaper.  One important note, however, is that the dataset is quite small -- so we shouldn't invest too much trust in these patterns!  To inspire more confidence in the results, we should add more candies to the dataset."
      ]
     },
     "metadata": {},
     "output_type": "display_data"
    }
   ],
   "source": [
    "# Check your answer (Run this code cell to receive credit!)\n",
    "step_6.b.solution()"
   ]
  },
  {
   "cell_type": "markdown",
   "id": "0d2782a1",
   "metadata": {
    "papermill": {
     "duration": 0.014196,
     "end_time": "2022-06-13T15:58:58.764789",
     "exception": false,
     "start_time": "2022-06-13T15:58:58.750593",
     "status": "completed"
    },
    "tags": []
   },
   "source": [
    "## Step 7: Everybody loves chocolate.\n",
    "\n",
    "#### Part A\n",
    "\n",
    "Create a categorical scatter plot to highlight the relationship between `'chocolate'` and `'winpercent'`.  Put `'chocolate'` on the (horizontal) x-axis, and `'winpercent'` on the (vertical) y-axis."
   ]
  },
  {
   "cell_type": "code",
   "execution_count": 22,
   "id": "2a6e7d71",
   "metadata": {
    "execution": {
     "iopub.execute_input": "2022-06-13T15:58:58.795552Z",
     "iopub.status.busy": "2022-06-13T15:58:58.794895Z",
     "iopub.status.idle": "2022-06-13T15:58:58.980135Z",
     "shell.execute_reply": "2022-06-13T15:58:58.979484Z"
    },
    "papermill": {
     "duration": 0.202794,
     "end_time": "2022-06-13T15:58:58.981981",
     "exception": false,
     "start_time": "2022-06-13T15:58:58.779187",
     "status": "completed"
    },
    "tags": []
   },
   "outputs": [
    {
     "data": {
      "application/javascript": [
       "parent.postMessage({\"jupyterEvent\": \"custom.exercise_interaction\", \"data\": {\"outcomeType\": 1, \"valueTowardsCompletion\": 0.3333333333333333, \"interactionType\": 1, \"questionType\": 2, \"questionId\": \"7.1_PlotSwarm\", \"learnToolsVersion\": \"0.3.4\", \"failureMessage\": \"\", \"exceptionClass\": \"\", \"trace\": \"\"}}, \"*\")"
      ],
      "text/plain": [
       "<IPython.core.display.Javascript object>"
      ]
     },
     "metadata": {},
     "output_type": "display_data"
    },
    {
     "data": {
      "text/markdown": [
       "<span style=\"color:#33cc33\">Correct</span>"
      ],
      "text/plain": [
       "Correct"
      ]
     },
     "metadata": {},
     "output_type": "display_data"
    },
    {
     "data": {
      "image/png": "[encoded data removed]",
      "text/plain": [
       "<Figure size 576x432 with 1 Axes>"
      ]
     },
     "metadata": {
      "needs_background": "light"
     },
     "output_type": "display_data"
    }
   ],
   "source": [
    "# Scatter plot showing the relationship between 'chocolate' and 'winpercent'\n",
    "____ # Your code here\n",
    "plt.figure(figsize=(8,6))\n",
    "sns.swarmplot(x=candy_data['chocolate'],\n",
    "              y=candy_data['winpercent'])\n",
    "# Check your answer\n",
    "step_7.a.check()"
   ]
  },
  {
   "cell_type": "code",
   "execution_count": 23,
   "id": "3e89ac9b",
   "metadata": {
    "execution": {
     "iopub.execute_input": "2022-06-13T15:58:59.015124Z",
     "iopub.status.busy": "2022-06-13T15:58:59.014475Z",
     "iopub.status.idle": "2022-06-13T15:58:59.017832Z",
     "shell.execute_reply": "2022-06-13T15:58:59.017213Z"
    },
    "papermill": {
     "duration": 0.021997,
     "end_time": "2022-06-13T15:58:59.019538",
     "exception": false,
     "start_time": "2022-06-13T15:58:58.997541",
     "status": "completed"
    },
    "tags": []
   },
   "outputs": [],
   "source": [
    "# Lines below will give you a hint or solution code\n",
    "#step_7.a.hint()\n",
    "#step_7.a.solution_plot()"
   ]
  },
  {
   "cell_type": "markdown",
   "id": "2e149cb7",
   "metadata": {
    "papermill": {
     "duration": 0.015048,
     "end_time": "2022-06-13T15:58:59.049806",
     "exception": false,
     "start_time": "2022-06-13T15:58:59.034758",
     "status": "completed"
    },
    "tags": []
   },
   "source": [
    "#### Part B\n",
    "\n",
    "You decide to dedicate a section of your report to the fact that chocolate candies tend to be more popular than candies without chocolate.  Which plot is more appropriate to tell this story: the plot from **Step 6**, or the plot from **Step 7**?"
   ]
  },
  {
   "cell_type": "code",
   "execution_count": 24,
   "id": "675366a4",
   "metadata": {
    "execution": {
     "iopub.execute_input": "2022-06-13T15:58:59.083037Z",
     "iopub.status.busy": "2022-06-13T15:58:59.082426Z",
     "iopub.status.idle": "2022-06-13T15:58:59.085851Z",
     "shell.execute_reply": "2022-06-13T15:58:59.085207Z"
    },
    "papermill": {
     "duration": 0.022256,
     "end_time": "2022-06-13T15:58:59.087782",
     "exception": false,
     "start_time": "2022-06-13T15:58:59.065526",
     "status": "completed"
    },
    "tags": []
   },
   "outputs": [],
   "source": [
    "#step_7.b.hint()"
   ]
  },
  {
   "cell_type": "code",
   "execution_count": 25,
   "id": "5eeb153c",
   "metadata": {
    "execution": {
     "iopub.execute_input": "2022-06-13T15:58:59.120680Z",
     "iopub.status.busy": "2022-06-13T15:58:59.119945Z",
     "iopub.status.idle": "2022-06-13T15:58:59.128152Z",
     "shell.execute_reply": "2022-06-13T15:58:59.127212Z"
    },
    "papermill": {
     "duration": 0.027005,
     "end_time": "2022-06-13T15:58:59.130197",
     "exception": false,
     "start_time": "2022-06-13T15:58:59.103192",
     "status": "completed"
    },
    "tags": []
   },
   "outputs": [
    {
     "data": {
      "application/javascript": [
       "parent.postMessage({\"jupyterEvent\": \"custom.exercise_interaction\", \"data\": {\"interactionType\": 3, \"questionType\": 4, \"questionId\": \"7.2_ThinkSwarm\", \"learnToolsVersion\": \"0.3.4\", \"valueTowardsCompletion\": 0.0, \"failureMessage\": \"\", \"exceptionClass\": \"\", \"trace\": \"\", \"outcomeType\": 4}}, \"*\")"
      ],
      "text/plain": [
       "<IPython.core.display.Javascript object>"
      ]
     },
     "metadata": {},
     "output_type": "display_data"
    },
    {
     "data": {
      "text/markdown": [
       "<span style=\"color:#33cc99\">Solution:</span> In this case, the categorical scatter plot from **Step 7** is the more appropriate plot. While both plots tell the desired story, the plot from **Step 6** conveys far more information that could distract from the main point."
      ],
      "text/plain": [
       "Solution: In this case, the categorical scatter plot from **Step 7** is the more appropriate plot. While both plots tell the desired story, the plot from **Step 6** conveys far more information that could distract from the main point."
      ]
     },
     "metadata": {},
     "output_type": "display_data"
    }
   ],
   "source": [
    "# Check your answer (Run this code cell to receive credit!)\n",
    "step_7.b.solution()"
   ]
  },
  {
   "cell_type": "markdown",
   "id": "fc98ef3b",
   "metadata": {
    "papermill": {
     "duration": 0.015056,
     "end_time": "2022-06-13T15:58:59.161221",
     "exception": false,
     "start_time": "2022-06-13T15:58:59.146165",
     "status": "completed"
    },
    "tags": []
   },
   "source": [
    "## Keep going\n",
    "\n",
    "Explore **[histograms and density plots](https://www.kaggle.com/alexisbcook/distributions)**."
   ]
  },
  {
   "cell_type": "markdown",
   "id": "8cb3698b",
   "metadata": {
    "papermill": {
     "duration": 0.015368,
     "end_time": "2022-06-13T15:58:59.191978",
     "exception": false,
     "start_time": "2022-06-13T15:58:59.176610",
     "status": "completed"
    },
    "tags": []
   },
   "source": [
    "---\n",
    "\n",
    "\n",
    "\n",
    "\n",
    "*Have questions or comments? Visit the [course discussion forum](https://www.kaggle.com/learn/data-visualization/discussion) to chat with other learners.*"
   ]
  }
 ],
 "metadata": {
  "kernelspec": {
   "display_name": "Python 3",
   "language": "python",
   "name": "python3"
  },
  "language_info": {
   "codemirror_mode": {
    "name": "ipython",
    "version": 3
   },
   "file_extension": ".py",
   "mimetype": "text/x-python",
   "name": "python",
   "nbconvert_exporter": "python",
   "pygments_lexer": "ipython3",
   "version": "3.7.12"
  },
  "papermill": {
   "default_parameters": {},
   "duration": 15.111923,
   "end_time": "2022-06-13T15:58:59.928948",
   "environment_variables": {},
   "exception": null,
   "input_path": "__notebook__.ipynb",
   "output_path": "__notebook__.ipynb",
   "parameters": {},
   "start_time": "2022-06-13T15:58:44.817025",
   "version": "2.3.4"
  }
 },
 "nbformat": 4,
 "nbformat_minor": 5
}
